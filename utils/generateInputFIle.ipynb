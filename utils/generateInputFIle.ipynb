{
 "cells": [
  {
   "cell_type": "code",
   "execution_count": 5,
   "metadata": {},
   "outputs": [],
   "source": [
    "import pandas as pd\n",
    "import gzip as gz\n",
    "import pickle as pkl"
   ]
  },
  {
   "cell_type": "code",
   "execution_count": 6,
   "metadata": {},
   "outputs": [],
   "source": [
    "hasTimeInterval = ['worksAt', 'graduatedFrom',\n",
    "                   'isMarriedTo', 'playsFor', 'isLeaderOf',\n",
    "                   'hasAcademicAdvisor', 'isAffiliatedTo']\n",
    "hasTimeStamp = ['actedIn', 'wroteMusicFor','created', 'participatedIn']"
   ]
  },
  {
   "cell_type": "code",
   "execution_count": null,
   "metadata": {},
   "outputs": [],
   "source": [
    "metafacts = pd.read_csv('actedIn.csv', sep='\\t') #, header=None)\n",
    "\n",
    "# Check if metafacts has data\n",
    "for r in metafacts:\n",
    "    print(r)    \n",
    "print(len(metafacts))"
   ]
  },
  {
   "cell_type": "code",
   "execution_count": 8,
   "metadata": {},
   "outputs": [],
   "source": [
    "data = {} # temporary data array\n",
    "\n",
    "# information on columns to use less space to save everything\n",
    "\n",
    "num_predicates = 0\n",
    "predicate2idx = {}\n",
    "idx2predicate = {}\n",
    "\n",
    "num_objs = 0\n",
    "obj2idx = {}\n",
    "idx2obj = {}\n",
    "\n",
    "cols = ['idx', 'id', 'subject', 'predicate', 'object', 'inDateTime', 'after', 'before']"
   ]
  },
  {
   "cell_type": "code",
   "execution_count": null,
   "metadata": {},
   "outputs": [],
   "source": [
    "for file in hasTimeInterval:\n",
    "    filename = '%s.csv'%(file)\n",
    "    print(\"Proc: \", filename)\n",
    "    metafacts = pd.read_csv(filename, sep='\\t', header=None)\n",
    "    num_mf = len(metafacts)\n",
    "    print(\"Rows: \", num_mf)\n",
    "    rows = []\n",
    "    for _, mf in metafacts.iterrows():\n",
    "        idn, subject, predicate, obj, after, date_after, before, date_before = mf\n",
    "        if after == 'after':\n",
    "            if not subject in obj2idx:\n",
    "                idx2obj[num_objs] = subject\n",
    "                obj2idx[subject] = num_objs\n",
    "                num_objs += 1\n",
    "                \n",
    "            if not predicate in predicate2idx:\n",
    "                idx2predicate[num_predicates] = predicate\n",
    "                predicate2idx[predicate] = num_predicates\n",
    "                num_predicates += 1\n",
    "                \n",
    "            if not obj in obj2idx:\n",
    "                idx2obj[num_objs] = obj\n",
    "                obj2idx[obj] = num_objs\n",
    "                num_objs += 1\n",
    "                \n",
    "            s = obj2idx[subject]\n",
    "            p = predicate2idx[predicate]\n",
    "            o = obj2idx[obj]\n",
    "            rows.append({'idx':        '%s%s%s-%s%s'%(subject,predicate,obj,date_after,date_before),\n",
    "                         'id':         idn,\n",
    "                         'subject':    s,\n",
    "                         'predicate':  p,\n",
    "                         'object':     o,\n",
    "                         'inDateTime': None,\n",
    "                         'after':      date_after,\n",
    "                         'before':     date_before})\n",
    "    data[file] = pd.DataFrame(rows, columns=cols)\n",
    "    #data[file] = data[file].set_index(['idx'])\n",
    "    data[file] = data[file].set_index('idx')\n",
    "    data[file] = data[file].sort_index()"
   ]
  },
  {
   "cell_type": "code",
   "execution_count": null,
   "metadata": {},
   "outputs": [],
   "source": [
    "for file in hasTimeStamp:\n",
    "    filename = '%s.csv'%(file)\n",
    "    print(\"Proc: \", filename)\n",
    "    metafacts = pd.read_csv(filename, sep='\\t', header=None)\n",
    "    num_mf = len(metafacts)\n",
    "    print(\"Rows: \", num_mf)\n",
    "    rows = []\n",
    "    #atom_idx = {}\n",
    "    for _, mf in metafacts.iterrows():\n",
    "        idn, subject, predicate, obj, in_date_time, date = mf\n",
    "        if in_date_time == 'inDateTime':\n",
    "            if not subject in obj2idx:\n",
    "                idx2obj[num_objs] = subject\n",
    "                obj2idx[subject] = num_objs\n",
    "                num_objs += 1\n",
    "                \n",
    "            if not predicate in predicate2idx:\n",
    "                idx2predicate[num_predicates] = predicate\n",
    "                predicate2idx[predicate] = num_predicates\n",
    "                num_predicates += 1\n",
    "                \n",
    "            if not obj in obj2idx:\n",
    "                idx2obj[num_objs] = obj\n",
    "                obj2idx[obj] = num_objs\n",
    "                num_objs += 1\n",
    "                \n",
    "            s = obj2idx[subject]\n",
    "            p = predicate2idx[predicate]\n",
    "            o = obj2idx[obj]\n",
    "            rows.append({'idx':        '%s%s%s%s--'%(subject,predicate,obj,date),\n",
    "                         'id':         idn,\n",
    "                         'subject':    s,\n",
    "                         'predicate':  p,\n",
    "                         'object':     o,\n",
    "                         'inDateTime': date,\n",
    "                         'after':      None,\n",
    "                         'before':     None})\n",
    "    data[file] = pd.DataFrame(rows, columns=cols)\n",
    "    data[file] = data[file].set_index('idx')\n",
    "    data[file] = data[file].sort_index()"
   ]
  },
  {
   "cell_type": "code",
   "execution_count": 11,
   "metadata": {},
   "outputs": [
    {
     "name": "stdout",
     "output_type": "stream",
     "text": [
      "11 41646\n"
     ]
    }
   ],
   "source": [
    "print(num_predicates, num_objs)"
   ]
  },
  {
   "cell_type": "code",
   "execution_count": null,
   "metadata": {},
   "outputs": [],
   "source": [
    "# Test if 'data' was successul created\n",
    "for r in data['actedIn']:\n",
    "    print(r)\n",
    "    \n",
    "total = 0\n",
    "for file in data:\n",
    "    print(file, len(data[file]))\n",
    "    total += len(data[file])\n",
    "    \n",
    "print(total)"
   ]
  },
  {
   "cell_type": "code",
   "execution_count": null,
   "metadata": {},
   "outputs": [],
   "source": [
    "print(data['actedIn'][:2])"
   ]
  },
  {
   "cell_type": "code",
   "execution_count": null,
   "metadata": {},
   "outputs": [],
   "source": [
    "print(data['worksAt'][:2])"
   ]
  },
  {
   "cell_type": "markdown",
   "metadata": {},
   "source": [
    "## Create the meta-facts input file"
   ]
  },
  {
   "cell_type": "code",
   "execution_count": 16,
   "metadata": {},
   "outputs": [],
   "source": [
    "data_dict = (data, idx2obj, idx2predicate, predicate2idx)\n",
    "f = gz.open('metafacts.pkl.gz','wb')\n",
    "pkl.dump(data_dict,f)\n",
    "f.close()"
   ]
  }
 ],
 "metadata": {
  "kernelspec": {
   "display_name": "Python 3",
   "language": "python",
   "name": "python3"
  },
  "language_info": {
   "codemirror_mode": {
    "name": "ipython",
    "version": 3
   },
   "file_extension": ".py",
   "mimetype": "text/x-python",
   "name": "python",
   "nbconvert_exporter": "python",
   "pygments_lexer": "ipython3",
   "version": "3.7.3"
  }
 },
 "nbformat": 4,
 "nbformat_minor": 2
}
