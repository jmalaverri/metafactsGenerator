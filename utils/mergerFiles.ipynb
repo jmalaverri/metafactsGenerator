{
 "cells": [
  {
   "cell_type": "code",
   "execution_count": null,
   "metadata": {},
   "outputs": [],
   "source": [
    "import pandas as pd\n",
    "import os"
   ]
  },
  {
   "cell_type": "markdown",
   "metadata": {},
   "source": [
    "# Merge metafacts files"
   ]
  },
  {
   "cell_type": "code",
   "execution_count": null,
   "metadata": {},
   "outputs": [],
   "source": [
    "foldername = 'results'"
   ]
  },
  {
   "cell_type": "code",
   "execution_count": null,
   "metadata": {},
   "outputs": [],
   "source": [
    "more = True\n",
    "n = 0\n",
    "df = pd.DataFrame()\n",
    "while more:\n",
    "    filename = '%s/newMFgen%d.csv'%(foldername,n)\n",
    "    n += 1\n",
    "    if os.path.exists(filename):\n",
    "        partial = pd.read_csv(filename, sep='\\t')\n",
    "        df = df.append(partial)\n",
    "    else:\n",
    "        more = False\n",
    "\n",
    "filename = '%s/newMFgenLast.csv'%(foldername)\n",
    "partial = pd.read_csv(filename, sep='\\t')\n",
    "df = df.append(partial)"
   ]
  },
  {
   "cell_type": "code",
   "execution_count": null,
   "metadata": {},
   "outputs": [],
   "source": [
    "print(len(df))\n",
    "df.to_csv('%s/allnewMFgen.csv'%(foldername), sep='\\t', encoding='utf-8')\n",
    "print('saved results/allnewMFgen.csv')"
   ]
  },
  {
   "cell_type": "code",
   "execution_count": null,
   "metadata": {},
   "outputs": [],
   "source": [
    "more = True\n",
    "n = 0\n",
    "df = pd.DataFrame()\n",
    "while more:\n",
    "    filename = '%s/newMFcons%d.csv'%(foldername,n)\n",
    "    n += 1\n",
    "    if os.path.exists(filename):\n",
    "        partial = pd.read_csv(filename, sep='\\t')\n",
    "        df = df.append(partial)\n",
    "    else:\n",
    "        more = False\n",
    "    \n",
    "filename = '%s/newMFconsLast.csv'%(foldername)\n",
    "partial = pd.read_csv(filename, sep='\\t')\n",
    "df = df.append(partial)"
   ]
  },
  {
   "cell_type": "code",
   "execution_count": null,
   "metadata": {},
   "outputs": [],
   "source": [
    "print(len(df))\n",
    "df.to_csv('%s/allnewMFcons.csv'%(foldername), sep='\\t', encoding='utf-8')\n",
    "print('saved results/allnewMFcons.csv')"
   ]
  },
  {
   "cell_type": "code",
   "execution_count": null,
   "metadata": {},
   "outputs": [],
   "source": [
    "more = True\n",
    "n = 0\n",
    "df = pd.DataFrame()\n",
    "while more:\n",
    "    filename = '%s/newMFrestr%d.csv'%(foldername,n)\n",
    "    n += 1\n",
    "    if os.path.exists(filename):\n",
    "        partial = pd.read_csv(filename, sep='\\t')\n",
    "        df = df.append(partial)\n",
    "    else:\n",
    "        more = False\n",
    "\n",
    "filename = '%s/newMFrestrLast.csv'%(foldername)\n",
    "partial = pd.read_csv(filename, sep='\\t')\n",
    "df = df.append(partial)"
   ]
  },
  {
   "cell_type": "code",
   "execution_count": null,
   "metadata": {},
   "outputs": [],
   "source": [
    "print(len(df))\n",
    "df.to_csv('%s/allnewMFrestr.csv'%(foldername), sep='\\t', encoding='utf-8')\n",
    "print('saved results/allnewMFrestr.csv')"
   ]
  },
  {
   "cell_type": "markdown",
   "metadata": {},
   "source": [
    "# Merge facts files"
   ]
  },
  {
   "cell_type": "code",
   "execution_count": null,
   "metadata": {},
   "outputs": [],
   "source": [
    "more = True\n",
    "n = 0\n",
    "df = pd.DataFrame()\n",
    "while more:\n",
    "    filename = '%s/newFacts%d.csv'%(foldername,n)\n",
    "    n += 1\n",
    "    if os.path.exists(filename):\n",
    "        partial = pd.read_csv(filename, sep='\\t')\n",
    "        df = df.append(partial)\n",
    "    else:\n",
    "        more = False\n",
    "\n",
    "filename = '%s/newFactsLast.csv'%(foldername)\n",
    "partial = pd.read_csv(filename, sep='\\t')\n",
    "df = df.append(partial)"
   ]
  },
  {
   "cell_type": "code",
   "execution_count": null,
   "metadata": {},
   "outputs": [],
   "source": [
    "print(len(df))\n",
    "df.to_csv('%s/allnewFacts.csv'%(foldername), sep='\\t', encoding='utf-8')\n",
    "print('saved results/allnewFacts.csv')"
   ]
  }
 ],
 "metadata": {
  "kernelspec": {
   "display_name": "Python 3",
   "language": "python",
   "name": "python3"
  },
  "language_info": {
   "codemirror_mode": {
    "name": "ipython",
    "version": 3
   },
   "file_extension": ".py",
   "mimetype": "text/x-python",
   "name": "python",
   "nbconvert_exporter": "python",
   "pygments_lexer": "ipython3",
   "version": "3.7.3"
  }
 },
 "nbformat": 4,
 "nbformat_minor": 2
}
