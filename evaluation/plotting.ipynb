{
 "cells": [
  {
   "cell_type": "code",
   "execution_count": 201,
   "metadata": {},
   "outputs": [],
   "source": [
    "import numpy as np\n",
    "import pandas as pd\n",
    "import math\n",
    "import matplotlib.pyplot as plt"
   ]
  },
  {
   "cell_type": "code",
   "execution_count": 202,
   "metadata": {},
   "outputs": [],
   "source": [
    "%matplotlib inline"
   ]
  },
  {
   "cell_type": "markdown",
   "metadata": {},
   "source": [
    "List of tresholds"
   ]
  },
  {
   "cell_type": "code",
   "execution_count": 203,
   "metadata": {},
   "outputs": [],
   "source": [
    "lt = [i / 10 for i in range(1, 10)]"
   ]
  },
  {
   "cell_type": "code",
   "execution_count": 204,
   "metadata": {},
   "outputs": [],
   "source": [
    "\"\"\"\n",
    "l: list of distance values\n",
    "td: Precision threshold\n",
    "tc: Confidence threshold\n",
    "\"\"\"\n",
    "def precision(l, td, tc):\n",
    "    n = len(l)\n",
    "    num = 0\n",
    "    den = 0\n",
    "    for d, c in l:\n",
    "        if c >= tc:\n",
    "            den += 1\n",
    "            if d <= td:\n",
    "                num += 1\n",
    "    if den != 0:\n",
    "        return num / den"
   ]
  },
  {
   "cell_type": "code",
   "execution_count": 205,
   "metadata": {},
   "outputs": [],
   "source": [
    "def recall(l, td, tc):\n",
    "    n = len(l)\n",
    "    num = 0\n",
    "    for d, c in l:\n",
    "        if c >= tc and d <= td:\n",
    "            num += 1\n",
    "    if (n != 0):\n",
    "        return num / n"
   ]
  },
  {
   "cell_type": "code",
   "execution_count": 211,
   "metadata": {},
   "outputs": [],
   "source": [
    "\"\"\"\n",
    "l1: mf\n",
    "l2: raw\n",
    "\"\"\"\n",
    "from IPython.display import HTML, display\n",
    "import tabulate\n",
    "def plotPrecision(l1, l2, lt, td, n):\n",
    "    x = lt\n",
    "    f1 = [0]*len(lt)\n",
    "    f2 = [0]*len(lt)\n",
    "    pl1 = [0]*len(lt)\n",
    "    pl2 = [0]*len(lt)\n",
    "    rl1 = [0]*len(lt)\n",
    "    rl2 = [0]*len(lt)\n",
    "    \n",
    "    i = 0\n",
    "    for t in lt:\n",
    "        p1 = precision(l1, td, t)\n",
    "        p2 = precision(l2, td, t)\n",
    "        r1 = recall(l1, td, t)\n",
    "        r2 = recall(l2, td, t)        \n",
    "        pl1[i] = p1\n",
    "        pl2[i] = p2\n",
    "        rl1[i] = r1\n",
    "        rl2[i] = r2\n",
    "        \n",
    "        f1[i] = 2*p1*r1/(p1+r1) if p1+r1 else 0 #F-measure of big file\n",
    "        f2[i] = 2*p2*r2/(p2+r2) if p2+r2 else 0 #F-measure of yago raw file\n",
    "        i += 1\n",
    "        \n",
    "    table = [lt,\n",
    "             pl1,\n",
    "             rl1,\n",
    "             f1,\n",
    "             pl2,\n",
    "             rl2,\n",
    "             f2]\n",
    "    display(HTML(tabulate.tabulate(table, tablefmt='html')))\n",
    "        \n",
    "    df = pd.DataFrame({'x': x, 'ds_b': pl1, 'ds_a': pl2})\n",
    "    colors = (200, 100, 0)\n",
    "    area = np.pi*30\n",
    "    \n",
    "    plt.plot('x', 'ds_b', data=df, marker='o', markerfacecolor='blue', markersize=6, color='skyblue', linewidth=2)\n",
    "    plt.plot('x', 'ds_a', data=df, marker=\"^\", markerfacecolor='yellow', markersize=6, color='olive', linewidth=2)\n",
    "    plt.legend()\n",
    "    \n",
    "    plt.title('')\n",
    "    plt.xlabel('Confidence')\n",
    "    plt.ylabel('Precision')\n",
    "    plt.show()"
   ]
  },
  {
   "cell_type": "code",
   "execution_count": 213,
   "metadata": {},
   "outputs": [],
   "source": [
    "import gzip as gz\n",
    "import pickle as pkl"
   ]
  },
  {
   "cell_type": "code",
   "execution_count": 214,
   "metadata": {},
   "outputs": [],
   "source": [
    "def check(arr):\n",
    "    for x in arr:\n",
    "        if not math.isnan(x):\n",
    "            return True\n",
    "    return False"
   ]
  },
  {
   "cell_type": "code",
   "execution_count": 215,
   "metadata": {},
   "outputs": [],
   "source": [
    "f2 = gz.open('totalSimilarities_dbp_A.pkl.gz','rb')\n",
    "draw = pkl.load(f2)\n",
    "f3 = gz.open('totalSimilarities_dbp_B.pkl.gz','rb')\n",
    "dmf = pkl.load(f3)"
   ]
  },
  {
   "cell_type": "code",
   "execution_count": null,
   "metadata": {},
   "outputs": [],
   "source": [
    "\"\"\"\n",
    "For 'setNum' choose one of the following options:\n",
    " 1. only considers timestamp data\n",
    " 2. considers results obtained from compute timestamp vs interval dates\n",
    " 3. only considers interval data\n",
    "setNum\n",
    "\"\"\"\n",
    "setNum = 3\n",
    "x, conf1, _, _ = zip(*dmf[setNum])\n",
    "data1 = np.array(x)\n",
    "print(\"Rows: \", len(data1))\n",
    "print(\"Cols: \", len(data1[0]))\n",
    "r = 15\n",
    "if setNum == 3:\n",
    "    r = 18 \n",
    "    temp = np.zeros((len(data1),18))\n",
    "    temp[:,:-3] = data1\n",
    "    for k in range(9,12):\n",
    "        arr = np.array([data1[:,k], data1[:,k+3]])\n",
    "        val = np.mean(arr, axis = 0, dtype=np.float64)\n",
    "        temp[:,k+6] = val\n",
    "    data1 = np.resize(data1,(len(data1),18))\n",
    "    data1 = temp\n",
    "\n",
    "x, conf2, _, _ = zip(*draw[setNum])\n",
    "data2 = np.array(x)\n",
    "print(\"Rows: \", len(data2))\n",
    "print(\"Cols: \", len(data2[0]))\n",
    "r = 15\n",
    "if setNum == 3:\n",
    "    r = 18 \n",
    "    temp = np.zeros((len(data2),18))\n",
    "    temp[:,:-3] = data2\n",
    "    for k in range(9,12):\n",
    "        arr = np.array([data2[:,k], data2[:,k+3]])\n",
    "        val = np.mean(arr, axis = 0, dtype=np.float64)\n",
    "        temp[:,k+6] = val\n",
    "    data2 = np.resize(data2,(len(data2),18))\n",
    "    data2 = temp\n",
    "\n",
    "r = data1.shape[1]\n",
    "for i in range(r):\n",
    "    if check(data1[:,i]) and check(data2[:,i]):\n",
    "        print(\"Graph\", i)\n",
    "        plotPrecision(np.column_stack((data1[:,i], conf1)), np.column_stack((data2[:,i], conf2)), lt, 0.1, 1000)"
   ]
  }
 ],
 "metadata": {
  "kernelspec": {
   "display_name": "Python 3",
   "language": "python",
   "name": "python3"
  },
  "language_info": {
   "codemirror_mode": {
    "name": "ipython",
    "version": 3
   },
   "file_extension": ".py",
   "mimetype": "text/x-python",
   "name": "python",
   "nbconvert_exporter": "python",
   "pygments_lexer": "ipython3",
   "version": "3.7.3"
  }
 },
 "nbformat": 4,
 "nbformat_minor": 2
}
